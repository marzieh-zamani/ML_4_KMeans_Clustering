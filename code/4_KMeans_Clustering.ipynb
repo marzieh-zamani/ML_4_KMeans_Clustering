{
 "cells": [
  {
   "cell_type": "markdown",
   "metadata": {
    "jupyter": {
     "outputs_hidden": false
    }
   },
   "source": [
    "# Project 4: K-Means Clustering"
   ]
  },
  {
   "cell_type": "markdown",
   "metadata": {},
   "source": [
    "## Setup"
   ]
  },
  {
   "cell_type": "code",
   "execution_count": 1,
   "metadata": {},
   "outputs": [],
   "source": [
    "%matplotlib inline\n",
    "import numpy as np\n",
    "import matplotlib.pyplot as plt\n",
    "import pandas as pd\n",
    "from sklearn.model_selection import train_test_split\n",
    "#from sklearn.tree import plot_tree\n",
    "#from sklearn.tree import DecisionTreeRegressor\n",
    "#from sklearn.ensemble import BaggingRegressor\n",
    "#from sklearn.ensemble import RandomForestRegressor\n",
    "from sklearn.cluster import KMeans"
   ]
  },
  {
   "cell_type": "markdown",
   "metadata": {},
   "source": [
    "## Step 0: Define function_0 to normalize the dataset"
   ]
  },
  {
   "cell_type": "code",
   "execution_count": 2,
   "metadata": {},
   "outputs": [],
   "source": [
    "# Function for Normalizing Dataset\n",
    "\n",
    "# input_feature_norm = function_0(input_feature)\n",
    "\n",
    "def function_0(input_feature):     \n",
    "    \n",
    "    # Normalizing input_features \n",
    "    input_feature_norm = input_feature / np.sqrt( np.sum(input_feature**2, axis=0) )\n",
    "    \n",
    "    return input_feature_norm"
   ]
  },
  {
   "cell_type": "markdown",
   "metadata": {},
   "source": [
    "## Step 1: Import fish data from Fish.csv"
   ]
  },
  {
   "cell_type": "code",
   "execution_count": 3,
   "metadata": {},
   "outputs": [
    {
     "name": "stdout",
     "output_type": "stream",
     "text": [
      "Dataset Summary:\n",
      "\n",
      "Fish dataset imported with following columns \n",
      "['Species', 'Weight', 'Length1', 'Length2', 'Length3', 'Height', 'Width']\n",
      "\n",
      "Train dataset: train_feature: (127, 6);  train_output: (127, 1)\n",
      "Test dataset: test_feature (32, 6); test_output: (32, 1)\n"
     ]
    }
   ],
   "source": [
    "# Importing fish data from Fish.csv\n",
    "df = pd.read_csv (r'../data/Fish.csv')  \n",
    "print('Dataset Summary:')\n",
    "print(f'\\nFish dataset imported with following columns \\n{list(df.columns)}')\n",
    "\n",
    "# Converting Panda data to Numpy data\n",
    "data = df.to_numpy()\n",
    "np.random.shuffle(data)\n",
    "np.random.shuffle(data)\n",
    "\n",
    "# Spliting features and labels\n",
    "fish_weights = data[:,1].astype(np.float32)\n",
    "fish_features = data[:,2:7].astype(np.float32) # 'Length1', 'Length2', 'Length3', 'Height', 'Width'\n",
    "fish_features = np.c_[fish_features, fish_weights] # 'Length1', 'Length2', 'Length3', 'Height', 'Width', 'Weight'\n",
    "fish_spec = data[:,0]#.astype(np.str)\n",
    "fish_spec = np.expand_dims(fish_spec, axis=1)\n",
    "\n",
    "# Normalize \n",
    "fish_features_norm = function_0(fish_features)\n",
    "\n",
    "# Spliting train and test data\n",
    "train_feature, test_feature, train_output, test_output = \\\n",
    "train_test_split(fish_features_norm, fish_spec, test_size=0.2)#, stratify=data[:,0])\n",
    "\n",
    "\n",
    "# Dataset Summary\n",
    "print(f'\\nTrain dataset: train_feature: {train_feature.shape};  train_output: {train_output.shape}')\n",
    "print(f'Test dataset: test_feature {test_feature.shape}; test_output: {test_output.shape}')"
   ]
  },
  {
   "cell_type": "markdown",
   "metadata": {},
   "source": [
    "## Step 2: Use Scikit Learn functions to perform K-Means clustering"
   ]
  },
  {
   "cell_type": "code",
   "execution_count": 4,
   "metadata": {},
   "outputs": [
    {
     "name": "stdout",
     "output_type": "stream",
     "text": [
      "*****************************************************************************\n",
      "Step 2 | K-mean Clustering for Fish data\n",
      "*****************************************************************************\n",
      "K-mean Clustering for Fish data: k = 7 => Test Accuracy = 0.5625\n"
     ]
    }
   ],
   "source": [
    "# Fit kmeans to data\n",
    "\n",
    "k_means = KMeans(n_clusters=7).fit(train_feature)\n",
    "kmeans_test  = k_means.predict(test_feature )\n",
    "\n",
    "fish_population = []\n",
    "fish_label = []\n",
    "fish_true_labes = []\n",
    "\n",
    "for spec in np.unique(test_output):\n",
    "    \n",
    "    # Extract all class samples and their labels\n",
    "    spec_members = test_output == spec\n",
    "    spec_labels = kmeans_test[spec_members[:,0]]\n",
    "    \n",
    "    # Find corresponding label for class using argmax\n",
    "    corr_label = np.unique(spec_labels, return_counts=True)\n",
    "    crs = np.argmax(corr_label[1])\n",
    "    \n",
    "    # Save population of fish class\n",
    "    fish_population.append(spec_labels.shape[0])\n",
    "    \n",
    "    # Save label of fish class\n",
    "    fish_label.append(corr_label[0][crs])\n",
    "    \n",
    "    # Save number of true classification\n",
    "    fish_true_labes.append(corr_label[1][crs])\n",
    "    \n",
    "# Calculate total classification accuracy\n",
    "true_labels = np.sum(np.array(fish_true_labes)) \n",
    "all_labels = np.sum(np.array(fish_population ))\n",
    "accuracy = true_labels / all_labels\n",
    "\n",
    "# Print results\n",
    "print('*****************************************************************************')\n",
    "print(f'Step 2 | K-mean Clustering for Fish data')\n",
    "print('*****************************************************************************')\n",
    "print(f'K-mean Clustering for Fish data: k = 7 => Test Accuracy = {accuracy}')"
   ]
  },
  {
   "cell_type": "code",
   "execution_count": 5,
   "metadata": {},
   "outputs": [
    {
     "data": {
      "image/png": "[encoded data removed]",
      "text/plain": [
       "<Figure size 432x288 with 1 Axes>"
      ]
     },
     "metadata": {
      "needs_background": "light"
     },
     "output_type": "display_data"
    }
   ],
   "source": [
    "# Plot test features with their cluster label\n",
    "plt.figure()\n",
    "plt.scatter(test_feature[:, 0], test_feature[:, 1], c=kmeans_test)\n",
    "plt.xlabel(\"Feature Weight\")\n",
    "plt.ylabel(\"Feature Length1\")\n",
    "plt.title(\"Test features with their cluster label\")\n",
    "plt.savefig('../results/kfold.png',dpi=300)\n",
    "plt.show()"
   ]
  }
 ],
 "metadata": {
  "celltoolbar": "Raw Cell Format",
  "interpreter": {
   "hash": "d4200012a02544ff0e251478dfc7985f9b810b3b800f09bc961df1a268ec774d"
  },
  "kernelspec": {
   "display_name": "Python 3.8.8 ('base')",
   "language": "python",
   "name": "python3"
  },
  "language_info": {
   "codemirror_mode": {
    "name": "ipython",
    "version": 3
   },
   "file_extension": ".py",
   "mimetype": "text/x-python",
   "name": "python",
   "nbconvert_exporter": "python",
   "pygments_lexer": "ipython3",
   "version": "3.8.8"
  }
 },
 "nbformat": 4,
 "nbformat_minor": 4
}
